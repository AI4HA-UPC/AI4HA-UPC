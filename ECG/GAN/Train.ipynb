{
 "cells": [
  {
   "cell_type": "code",
   "execution_count": 1,
   "metadata": {},
   "outputs": [],
   "source": [
    "import argparse\n",
    "import os\n",
    "from tqdm import tqdm\n",
    "import numpy as np\n",
    "\n",
    "import torch\n",
    "import torch.optim as optim\n",
    "from torch.optim import lr_scheduler\n",
    "import torch.nn as nn\n",
    "from torchvision import models, transforms\n",
    "from torchvision.utils import save_image\n",
    "from torch.autograd import Variable\n",
    "from torchinfo import summary\n",
    "from torch import autograd\n",
    "import logging\n",
    "from tqdm.auto import tqdm\n",
    "from Model import WaveGANGenerator, WaveGANDiscriminator, Pulse2PulseGANGenerator\n",
    "\n",
    "from ai4ha.util import instantiate_from_config, load_config\n",
    "from ai4ha.GAN.losses import calc_gradient_penalty\n",
    "\n",
    "from accelerate import Accelerator\n",
    "from accelerate.logging import get_logger\n",
    "from accelerate.utils import ProjectConfiguration\n",
    "from diffusers.optimization import get_scheduler\n",
    "from accelerate import DistributedDataParallelKwargs"
   ]
  },
  {
   "cell_type": "code",
   "execution_count": 2,
   "metadata": {},
   "outputs": [],
   "source": [
    "def save_model(netG, netD, optimizerG, optimizerD, epoch):\n",
    "    check_point_name = py_file_name + \"_epoch:{}.pt\".format(\n",
    "        epoch\n",
    "    )  # get code file name and make a name\n",
    "    check_point_path = os.path.join(checkpoint_dir, check_point_name)\n",
    "    # save torch model\n",
    "    torch.save(\n",
    "        {\n",
    "            \"epoch\": epoch,\n",
    "            \"netG_state_dict\": netG.state_dict(),\n",
    "            \"netD_state_dict\": netD.state_dict(),\n",
    "            \"optimizerG_state_dict\": optimizerG.state_dict(),\n",
    "            \"optimizerD_state_dict\": optimizerD.state_dict(),\n",
    "            # \"train_loss\": train_loss,\n",
    "            # \"val_loss\": validation_loss\n",
    "        },\n",
    "        check_point_path,\n",
    "    )"
   ]
  },
  {
   "cell_type": "code",
   "execution_count": 3,
   "metadata": {},
   "outputs": [],
   "source": [
    "DIRS = ['checkpoints', 'logs', 'samples', \"final\", \"model\"]\n",
    "logger = get_logger(__name__, log_level=\"INFO\")"
   ]
  },
  {
   "cell_type": "code",
   "execution_count": 4,
   "metadata": {},
   "outputs": [],
   "source": [
    "config = load_config('configs/done/Pulse2Pulse-MITBIH-G-NL3-IC32-K8-S2-BN-D-NL3-IC16-K4-S2-P1-SF2-SN-local.json')"
   ]
  },
  {
   "cell_type": "code",
   "execution_count": 5,
   "metadata": {},
   "outputs": [
    {
     "name": "stderr",
     "output_type": "stream",
     "text": [
      "/home/bejar/env/torch13/lib/python3.10/site-packages/accelerate/accelerator.py:371: UserWarning: `log_with=wandb` was passed but no supported trackers are currently installed.\n",
      "  warnings.warn(f\"`log_with={log_with}` was passed but no supported trackers are currently installed.\")\n"
     ]
    }
   ],
   "source": [
    "BASE_DIR = f\"{config['exp_dir']}/logs/{config['name']}\"\n",
    "\n",
    "for dir in DIRS:\n",
    "    os.makedirs(f\"{BASE_DIR}/{dir}\", exist_ok=True)\n",
    "\n",
    "accparams = config['accelerator']\n",
    "# accparams[\"logging_dir\"] = f\"{BASE_DIR}/logs\"\n",
    "accparams[\"project_dir\"] = BASE_DIR\n",
    "\n",
    "if 'projectconf' in config:\n",
    "    accparams['project_config'] = ProjectConfiguration(**config['projectconf'])\n",
    "\n",
    "ddp_kwargs = DistributedDataParallelKwargs(\n",
    "    find_unused_parameters=accparams['gradient_accumulation_steps'] > 1)\n",
    "accelerator = Accelerator(**accparams, kwargs_handlers=[ddp_kwargs])"
   ]
  },
  {
   "cell_type": "code",
   "execution_count": 6,
   "metadata": {},
   "outputs": [
    {
     "name": "stderr",
     "output_type": "stream",
     "text": [
      "02/29/2024 11:19:57 - INFO - __main__ - Distributed environment: NO\n",
      "Num processes: 1\n",
      "Process index: 0\n",
      "Local process index: 0\n",
      "Device: cuda\n",
      "\n",
      "Mixed precision type: no\n",
      "\n"
     ]
    }
   ],
   "source": [
    "logging.basicConfig(\n",
    "    format=\"%(asctime)s - %(levelname)s - %(name)s - %(message)s\",\n",
    "    datefmt=\"%m/%d/%Y %H:%M:%S\",\n",
    "    level=logging.INFO,\n",
    ")\n",
    "logger.info(accelerator.state, main_process_only=False)"
   ]
  },
  {
   "cell_type": "code",
   "execution_count": 7,
   "metadata": {},
   "outputs": [],
   "source": [
    "torch.manual_seed(0)\n",
    "np.random.seed(0)\n",
    "device = torch.device(\"cuda\" if torch.cuda.is_available() else \"cpu\")"
   ]
  },
  {
   "cell_type": "code",
   "execution_count": 8,
   "metadata": {},
   "outputs": [],
   "source": [
    "# netG = WaveGANGenerator(\n",
    "#     latent_dim=config['model']['generator']['latent_dim'],\n",
    "#     output_channels=config['model']['generator']['output_channels'],\n",
    "#     init_dim=config['model']['generator']['init_dim'],\n",
    "#     output_size=config['model']['generator']['output_size'],\n",
    "#     kernel_size=config['model']['generator']['kernel_size'],\n",
    "#     stride=config['model']['generator']['stride'],\n",
    "#     batch_norm=config['model']['generator']['batch_norm'],\n",
    "#     n_classes=config['model']['generator']['n_classes'],\n",
    "# )\n",
    "\n",
    "netG = Pulse2PulseGANGenerator(\n",
    "    seq_length=config['model']['generator']['seq_length'],\n",
    "    seq_channels=config['model']['generator']['seq_channels'],\n",
    "    init_channels=config['model']['generator']['init_channels'],\n",
    "    n_layers=config['model']['generator']['n_layers'],\n",
    "    kernel_size=config['model']['generator']['kernel_size'],\n",
    "    stride=config['model']['generator']['stride'],\n",
    "    batch_norm=config['model']['generator']['batch_norm'],\n",
    "    n_classes=config['model']['generator']['n_classes'],\n",
    ")\n",
    "\n",
    "netD = WaveGANDiscriminator(\n",
    "    input_size=config['model']['discriminator']['input_size'],\n",
    "    input_channels=config['model']['discriminator']['input_channels'],\n",
    "    init_channels=config['model']['discriminator']['init_channels'],\n",
    "    n_layers=config['model']['discriminator']['n_layers'],\n",
    "    kernel_size=config['model']['discriminator']['kernel_size'],\n",
    "    stride=config['model']['discriminator']['stride'],\n",
    "    padding=config['model']['discriminator']['padding'],\n",
    "    shift_factor=config['model']['discriminator']['shift_factor'],\n",
    "    n_classes=config['model']['discriminator']['n_classes'],)"
   ]
  },
  {
   "cell_type": "code",
   "execution_count": 9,
   "metadata": {},
   "outputs": [],
   "source": [
    "# noise = torch.randn(16, 100)\n",
    "# fake = netG(noise)\n",
    "# print(fake.shape)"
   ]
  },
  {
   "cell_type": "code",
   "execution_count": 10,
   "metadata": {},
   "outputs": [],
   "source": [
    "optimizerG = optim.Adam(netG.parameters(),\n",
    "                        lr=config['optimizer']['lr'],\n",
    "                        betas=(config['optimizer']['beta1'],\n",
    "                               config['optimizer']['beta2']))\n",
    "\n",
    "optimizerD = optim.Adam(netD.parameters(),\n",
    "                        lr=config['optimizer']['lr'],\n",
    "                        betas=(config['optimizer']['beta1'],\n",
    "                               config['optimizer']['beta2']))"
   ]
  },
  {
   "cell_type": "code",
   "execution_count": 11,
   "metadata": {},
   "outputs": [
    {
     "name": "stdout",
     "output_type": "stream",
     "text": [
      "Class 0 = (72471, 188)\n",
      "Class 1 = (2223, 188)\n",
      "Class 2 = (5788, 188)\n",
      "Class 3 = (641, 188)\n",
      "Class 4 = (6431, 188)\n",
      "X_train shape is (87554, 1, 256)\n",
      "y_train shape is (87554,)\n",
      "--------------------------------\n",
      "-------TEST DATA-------\n",
      "Class 0 = (18118, 188)\n",
      "Class 1 = (556, 188)\n",
      "Class 2 = (1448, 188)\n",
      "Class 3 = (162, 188)\n",
      "Class 4 = (1608, 188)\n",
      "X_test shape is (21892, 1, 256)\n",
      "y_test shape is (21892,)\n"
     ]
    }
   ],
   "source": [
    "train_data = instantiate_from_config(config['dataset']['train'])\n",
    "test_data = instantiate_from_config(config['dataset']['test'])\n",
    "train_dataloader = torch.utils.data.DataLoader(\n",
    "    train_data, **config['dataset'][\"dataloader\"])"
   ]
  },
  {
   "cell_type": "code",
   "execution_count": 12,
   "metadata": {},
   "outputs": [],
   "source": [
    "lr_schedulerD = get_scheduler(\n",
    "    \"cosine\",\n",
    "    optimizer=optimizerD,\n",
    "    num_warmup_steps=config['train']['lr_warmup_steps'] *\n",
    "    accparams['gradient_accumulation_steps'],\n",
    "    num_training_steps=(len(train_dataloader) * config['train']['num_epochs']),\n",
    ")\n",
    "lr_schedulerG = get_scheduler(\n",
    "    \"cosine\",\n",
    "    optimizer=optimizerG,\n",
    "    num_warmup_steps=config['train']['lr_warmup_steps'] *\n",
    "    accparams['gradient_accumulation_steps'],\n",
    "    num_training_steps=(len(train_dataloader) * config['train']['num_epochs']),\n",
    ")"
   ]
  },
  {
   "cell_type": "code",
   "execution_count": 13,
   "metadata": {},
   "outputs": [],
   "source": [
    "netD, netG, optimizerD, optimizerG, train_dataloader, lr_schedulerD, lr_schedulerG = accelerator.prepare(\n",
    "    netD, netG, optimizerD, optimizerG, train_dataloader, lr_schedulerD, lr_schedulerG)\n",
    "netD.to(accelerator.device)\n",
    "netG.to(accelerator.device);"
   ]
  },
  {
   "cell_type": "code",
   "execution_count": 14,
   "metadata": {},
   "outputs": [
    {
     "data": {
      "text/plain": [
       "device(type='cuda', index=0)"
      ]
     },
     "execution_count": 14,
     "metadata": {},
     "output_type": "execute_result"
    }
   ],
   "source": [
    "next(netG.parameters()).device"
   ]
  },
  {
   "cell_type": "code",
   "execution_count": 15,
   "metadata": {},
   "outputs": [],
   "source": [
    "start_epoch = 0\n",
    "num_epochs = 1"
   ]
  },
  {
   "cell_type": "code",
   "execution_count": 74,
   "metadata": {},
   "outputs": [
    {
     "data": {
      "application/vnd.jupyter.widget-view+json": {
       "model_id": "46373e3aadbc4f09b39ea048599f884b",
       "version_major": 2,
       "version_minor": 0
      },
      "text/plain": [
       "  0%|          | 0/5473 [00:00<?, ?it/s]"
      ]
     },
     "metadata": {},
     "output_type": "display_data"
    },
    {
     "data": {
      "application/vnd.jupyter.widget-view+json": {
       "model_id": "67f4c43f323348f3ac3f2e365e91ff4b",
       "version_major": 2,
       "version_minor": 0
      },
      "text/plain": [
       "  0%|          | 0/5473 [00:00<?, ?it/s]"
      ]
     },
     "metadata": {},
     "output_type": "display_data"
    },
    {
     "data": {
      "application/vnd.jupyter.widget-view+json": {
       "model_id": "f38923ac08db410f81e88741bf945921",
       "version_major": 2,
       "version_minor": 0
      },
      "text/plain": [
       "  0%|          | 0/5473 [00:00<?, ?it/s]"
      ]
     },
     "metadata": {},
     "output_type": "display_data"
    },
    {
     "data": {
      "application/vnd.jupyter.widget-view+json": {
       "model_id": "57728111bff14929a0ed86b77495830e",
       "version_major": 2,
       "version_minor": 0
      },
      "text/plain": [
       "  0%|          | 0/5473 [00:00<?, ?it/s]"
      ]
     },
     "metadata": {},
     "output_type": "display_data"
    },
    {
     "data": {
      "application/vnd.jupyter.widget-view+json": {
       "model_id": "02c21c121a824019862edf55c4ff4260",
       "version_major": 2,
       "version_minor": 0
      },
      "text/plain": [
       "  0%|          | 0/5473 [00:00<?, ?it/s]"
      ]
     },
     "metadata": {},
     "output_type": "display_data"
    }
   ],
   "source": [
    "num_update_steps_per_epoch = len(\n",
    "    train_dataloader) // config['accelerator']['gradient_accumulation_steps']\n",
    "batch_size = config['dataset']['dataloader']['batch_size']\n",
    "latent_dim = config['models']['generator']['latent_dim']\n",
    "\n",
    "lambda_gp = 0.1\n",
    "\n",
    "for epoch in range(config['train']['num_epochs']):\n",
    "    progress_bar = tqdm(total=num_update_steps_per_epoch,\n",
    "                        disable=not accelerator.is_local_main_process)\n",
    "    progress_bar.set_description(f\"Epoch {epoch}\")\n",
    "    mean_lossG, mean_lossD = 0, 0\n",
    "    for step, batch in enumerate(train_dataloader):\n",
    "        # Discriminator update\n",
    "        data, label = batch\n",
    "\n",
    "        label = label.long().to(accelerator.device)\n",
    "        data = data.float().to(accelerator.device)\n",
    "        noise_dims = tuple([data.size(0)] + latent_dim)\n",
    "        noise = torch.randn(*noise_dims).to(device)\n",
    "\n",
    "        if config['model']['generator']['n_classes'] > 0:\n",
    "            fake = netG(noise, label)\n",
    "            pred_fake = netD(fake, label)\n",
    "        else:\n",
    "            label = None\n",
    "            fake = netG(noise)\n",
    "            pred_fake = netD(fake)\n",
    "\n",
    "        loss_d_fake = pred_fake.mean()\n",
    "        pred_real = netD(data, label)\n",
    "        loss_d_real = pred_real.mean()\n",
    "\n",
    "        gradient_penalty = calc_gradient_penalty(netD,\n",
    "                                                 data,\n",
    "                                                 fake,\n",
    "                                                 labels=label)\n",
    "\n",
    "        loss_d = loss_d_fake - loss_d_real + (lambda_gp * gradient_penalty)\n",
    "        mean_lossD += loss_d.item()\n",
    "        optimizerD.zero_grad()\n",
    "        loss_d.backward()\n",
    "        optimizerD.step()\n",
    "\n",
    "        # Generator update\n",
    "        noise = torch.randn(*noise_dims).to(device)\n",
    "\n",
    "        if config['model']['generator']['n_classes'] > 0:\n",
    "            fake = netG(noise, label)\n",
    "            pred_fake = netD(fake, label)\n",
    "        else:\n",
    "            fake = netG(noise)\n",
    "            pred_fake = netD(fake)\n",
    "        loss_g = -pred_fake.mean()\n",
    "\n",
    "        optimizerG.zero_grad()\n",
    "        loss_g.backward()\n",
    "        optimizerG.step()\n",
    "\n",
    "        mean_lossG += loss_g.item()\n",
    "\n",
    "        lr_schedulerD.step()\n",
    "        lr_schedulerG.step()\n",
    "        progress_bar.update(1)\n",
    "        progress_bar.set_postfix({\n",
    "            \"lossD\": f'{loss_d.item():6.5f}',\n",
    "            \"lossG\": f'{loss_g.item():6.5f}',\n",
    "            \"mean_lossG\": f'{mean_lossG / (step + 1):6.5f}',\n",
    "            \"mean_lossD\": f'{mean_lossD / (step + 1):6.5f}'\n",
    "        })"
   ]
  },
  {
   "cell_type": "code",
   "execution_count": 75,
   "metadata": {},
   "outputs": [],
   "source": [
    "import matplotlib.pyplot as plt"
   ]
  },
  {
   "cell_type": "code",
   "execution_count": 88,
   "metadata": {},
   "outputs": [],
   "source": [
    "noise = torch.randn(1,seq_channels, seq_length).to(device)\n",
    "fake = netG(noise, torch.tensor([4]).to(device))"
   ]
  },
  {
   "cell_type": "code",
   "execution_count": 89,
   "metadata": {},
   "outputs": [],
   "source": [
    "series = fake.squeeze().detach().cpu().numpy()"
   ]
  },
  {
   "cell_type": "code",
   "execution_count": 90,
   "metadata": {},
   "outputs": [
    {
     "data": {
      "text/plain": [
       "[<matplotlib.lines.Line2D at 0x7fdd8ae44a00>]"
      ]
     },
     "execution_count": 90,
     "metadata": {},
     "output_type": "execute_result"
    },
    {
     "data": {
      "image/png": "[encoded data removed]",
      "text/plain": [
       "<Figure size 1000x500 with 1 Axes>"
      ]
     },
     "metadata": {},
     "output_type": "display_data"
    }
   ],
   "source": [
    "fig = plt.figure(figsize=(10, 5))\n",
    "ax = fig.add_subplot(111)\n",
    "plt.plot(series)"
   ]
  }
 ],
 "metadata": {
  "kernelspec": {
   "display_name": "torch13",
   "language": "python",
   "name": "python3"
  },
  "language_info": {
   "codemirror_mode": {
    "name": "ipython",
    "version": 3
   },
   "file_extension": ".py",
   "mimetype": "text/x-python",
   "name": "python",
   "nbconvert_exporter": "python",
   "pygments_lexer": "ipython3",
   "version": "3.10.13"
  }
 },
 "nbformat": 4,
 "nbformat_minor": 2
}
