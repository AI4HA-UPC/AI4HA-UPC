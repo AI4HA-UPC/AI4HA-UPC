{
 "cells": [
  {
   "cell_type": "markdown",
   "metadata": {},
   "source": [
    "# Start"
   ]
  },
  {
   "cell_type": "code",
   "execution_count": 1,
   "metadata": {},
   "outputs": [],
   "source": [
    "import torch\n",
    "import torch.nn as nn\n",
    "import torch.nn.functional as F\n",
    "import torch.utils.data\n",
    "import numpy as np\n",
    "from ai4ha.GAN.Generators import WaveGANGenerator, Pulse2PulseGANGenerator, WaveGANUpsampleGenerator, \\\n",
    "    WaveGANDeconvGenerator, TTSGANGenerator\n",
    "\n",
    "from ai4ha.GAN.Discriminators import WaveGANDiscriminator, TTSGANDiscriminator\n",
    "from ai4ha.util import instantiate_from_config, load_config"
   ]
  },
  {
   "cell_type": "code",
   "execution_count": 6,
   "metadata": {},
   "outputs": [],
   "source": [
    "data = torch.rand(10, 8, 512).to('cuda')"
   ]
  },
  {
   "cell_type": "code",
   "execution_count": 7,
   "metadata": {},
   "outputs": [
    {
     "name": "stderr",
     "output_type": "stream",
     "text": [
      "/home/bejar/env/torch13/lib64/python3.10/site-packages/torch/nn/init.py:405: UserWarning: Initializing zero-element tensors is a no-op\n",
      "  warnings.warn(\"Initializing zero-element tensors is a no-op\")\n"
     ]
    }
   ],
   "source": [
    "gen = Pulse2PulseGANGenerator(\n",
    "        seq_length=512,\n",
    "        seq_channels=8,\n",
    "        init_channels=32,\n",
    "        kernel_size=16,\n",
    "        stride=2,\n",
    "        n_layers=3,\n",
    "        n_classes=0,\n",
    "        batch_norm=True,)"
   ]
  },
  {
   "cell_type": "code",
   "execution_count": 8,
   "metadata": {},
   "outputs": [
    {
     "data": {
      "text/plain": [
       "Pulse2PulseGANGenerator(\n",
       "  (class_adapt): Linear(in_features=0, out_features=512, bias=True)\n",
       "  (convolutions): ModuleList(\n",
       "    (0): Sequential(\n",
       "      (0): Conv1d(8, 32, kernel_size=(16,), stride=(2,), padding=(7,))\n",
       "      (1): BatchNorm1d(32, eps=1e-05, momentum=0.1, affine=True, track_running_stats=True)\n",
       "      (2): ReLU()\n",
       "    )\n",
       "    (1): Sequential(\n",
       "      (0): Conv1d(32, 64, kernel_size=(16,), stride=(2,), padding=(7,))\n",
       "      (1): BatchNorm1d(64, eps=1e-05, momentum=0.1, affine=True, track_running_stats=True)\n",
       "      (2): ReLU()\n",
       "    )\n",
       "    (2): Sequential(\n",
       "      (0): Conv1d(64, 128, kernel_size=(16,), stride=(2,), padding=(7,))\n",
       "      (1): BatchNorm1d(128, eps=1e-05, momentum=0.1, affine=True, track_running_stats=True)\n",
       "      (2): ReLU()\n",
       "    )\n",
       "    (3): Sequential(\n",
       "      (0): Conv1d(128, 256, kernel_size=(16,), stride=(2,), padding=(7,))\n",
       "      (1): BatchNorm1d(256, eps=1e-05, momentum=0.1, affine=True, track_running_stats=True)\n",
       "      (2): ReLU()\n",
       "    )\n",
       "  )\n",
       "  (first_deconvolution): Sequential(\n",
       "    (0): ConvTranspose1d(256, 128, kernel_size=(16,), stride=(2,), padding=(7,))\n",
       "  )\n",
       "  (deconvolutions): ModuleList(\n",
       "    (0): Sequential(\n",
       "      (0): ConvTranspose1d(256, 64, kernel_size=(16,), stride=(2,), padding=(7,))\n",
       "      (1): BatchNorm1d(64, eps=1e-05, momentum=0.1, affine=True, track_running_stats=True)\n",
       "      (2): ReLU()\n",
       "    )\n",
       "    (1): Sequential(\n",
       "      (0): ConvTranspose1d(128, 32, kernel_size=(16,), stride=(2,), padding=(7,))\n",
       "      (1): BatchNorm1d(32, eps=1e-05, momentum=0.1, affine=True, track_running_stats=True)\n",
       "      (2): ReLU()\n",
       "    )\n",
       "  )\n",
       "  (out_deconvolution): Sequential(\n",
       "    (0): ConvTranspose1d(32, 8, kernel_size=(16,), stride=(2,), padding=(7,))\n",
       "  )\n",
       ")"
      ]
     },
     "execution_count": 8,
     "metadata": {},
     "output_type": "execute_result"
    }
   ],
   "source": [
    "gen.to('cuda');"
   ]
  },
  {
   "cell_type": "code",
   "execution_count": 5,
   "metadata": {},
   "outputs": [],
   "source": [
    "out = gen(data)"
   ]
  },
  {
   "cell_type": "code",
   "execution_count": 5,
   "metadata": {},
   "outputs": [
    {
     "data": {
      "text/plain": [
       "torch.Size([10, 8, 512])"
      ]
     },
     "execution_count": 5,
     "metadata": {},
     "output_type": "execute_result"
    }
   ],
   "source": [
    "out.shape"
   ]
  },
  {
   "cell_type": "markdown",
   "metadata": {},
   "source": [
    "---"
   ]
  },
  {
   "cell_type": "code",
   "execution_count": 2,
   "metadata": {},
   "outputs": [],
   "source": [
    "from ai4ha.layers.Layers import UpsamplingConvo1D"
   ]
  },
  {
   "cell_type": "code",
   "execution_count": 67,
   "metadata": {},
   "outputs": [],
   "source": [
    "data = torch.rand(10, 8, 32).to('cuda')"
   ]
  },
  {
   "cell_type": "code",
   "execution_count": 83,
   "metadata": {},
   "outputs": [],
   "source": [
    "upc = UpsamplingConvo1D(in_channels=8, out_channels=16, upsample=4, kernel_size=3, stride=1, padding=0).to('cuda')"
   ]
  },
  {
   "cell_type": "code",
   "execution_count": 84,
   "metadata": {},
   "outputs": [],
   "source": [
    "res = upc(data)"
   ]
  },
  {
   "cell_type": "code",
   "execution_count": 85,
   "metadata": {},
   "outputs": [
    {
     "data": {
      "text/plain": [
       "torch.Size([10, 16, 128])"
      ]
     },
     "execution_count": 85,
     "metadata": {},
     "output_type": "execute_result"
    }
   ],
   "source": [
    "res.shape"
   ]
  },
  {
   "cell_type": "markdown",
   "metadata": {},
   "source": [
    "---"
   ]
  },
  {
   "cell_type": "code",
   "execution_count": 14,
   "metadata": {},
   "outputs": [],
   "source": [
    "config = load_config('configs/done/Pulse2Pulse-MITBIH-G-NL4-IC64-K16-S2-BN-D-NL3-IC64-K16-S2-SF8-SN-local.json')"
   ]
  },
  {
   "cell_type": "code",
   "execution_count": 15,
   "metadata": {},
   "outputs": [],
   "source": [
    "netG = instantiate_from_config(config['model']['generator'])"
   ]
  },
  {
   "cell_type": "code",
   "execution_count": 16,
   "metadata": {},
   "outputs": [
    {
     "ename": "RuntimeError",
     "evalue": "Error(s) in loading state_dict for Pulse2PulseGANGenerator:\n\tUnexpected key(s) in state_dict: \"convolutions.0.1.weight\", \"convolutions.0.1.bias\", \"convolutions.0.1.running_mean\", \"convolutions.0.1.running_var\", \"convolutions.0.1.num_batches_tracked\", \"convolutions.1.1.weight\", \"convolutions.1.1.bias\", \"convolutions.1.1.running_mean\", \"convolutions.1.1.running_var\", \"convolutions.1.1.num_batches_tracked\", \"convolutions.2.1.weight\", \"convolutions.2.1.bias\", \"convolutions.2.1.running_mean\", \"convolutions.2.1.running_var\", \"convolutions.2.1.num_batches_tracked\", \"convolutions.3.1.weight\", \"convolutions.3.1.bias\", \"convolutions.3.1.running_mean\", \"convolutions.3.1.running_var\", \"convolutions.3.1.num_batches_tracked\", \"convolutions.4.1.weight\", \"convolutions.4.1.bias\", \"convolutions.4.1.running_mean\", \"convolutions.4.1.running_var\", \"convolutions.4.1.num_batches_tracked\", \"deconvolutions.0.1.weight\", \"deconvolutions.0.1.bias\", \"deconvolutions.0.1.running_mean\", \"deconvolutions.0.1.running_var\", \"deconvolutions.0.1.num_batches_tracked\", \"deconvolutions.1.1.weight\", \"deconvolutions.1.1.bias\", \"deconvolutions.1.1.running_mean\", \"deconvolutions.1.1.running_var\", \"deconvolutions.1.1.num_batches_tracked\", \"deconvolutions.2.1.weight\", \"deconvolutions.2.1.bias\", \"deconvolutions.2.1.running_mean\", \"deconvolutions.2.1.running_var\", \"deconvolutions.2.1.num_batches_tracked\". ",
     "output_type": "error",
     "traceback": [
      "\u001b[0;31m---------------------------------------------------------------------------\u001b[0m",
      "\u001b[0;31mRuntimeError\u001b[0m                              Traceback (most recent call last)",
      "Cell \u001b[0;32mIn[16], line 2\u001b[0m\n\u001b[1;32m      1\u001b[0m path \u001b[38;5;241m=\u001b[39m \u001b[38;5;124m'\u001b[39m\u001b[38;5;124m/home/bejar/bsc/misiones/Series/Models/WaveGAN/logs/Pulse2Pulse-MITBIH-G-NL4-IC64-K16-S2-BN-D-NL3-IC64-K16-S2-SF8-SN/final/Generator/pytorch_model.bin\u001b[39m\u001b[38;5;124m'\u001b[39m\n\u001b[0;32m----> 2\u001b[0m \u001b[43mnetG\u001b[49m\u001b[38;5;241;43m.\u001b[39;49m\u001b[43mload_state_dict\u001b[49m\u001b[43m(\u001b[49m\u001b[43mtorch\u001b[49m\u001b[38;5;241;43m.\u001b[39;49m\u001b[43mload\u001b[49m\u001b[43m(\u001b[49m\u001b[43mpath\u001b[49m\u001b[43m)\u001b[49m\u001b[43m)\u001b[49m\n",
      "File \u001b[0;32m~/env/torch13/lib64/python3.10/site-packages/torch/nn/modules/module.py:1671\u001b[0m, in \u001b[0;36mModule.load_state_dict\u001b[0;34m(self, state_dict, strict)\u001b[0m\n\u001b[1;32m   1666\u001b[0m         error_msgs\u001b[38;5;241m.\u001b[39minsert(\n\u001b[1;32m   1667\u001b[0m             \u001b[38;5;241m0\u001b[39m, \u001b[38;5;124m'\u001b[39m\u001b[38;5;124mMissing key(s) in state_dict: \u001b[39m\u001b[38;5;132;01m{}\u001b[39;00m\u001b[38;5;124m. \u001b[39m\u001b[38;5;124m'\u001b[39m\u001b[38;5;241m.\u001b[39mformat(\n\u001b[1;32m   1668\u001b[0m                 \u001b[38;5;124m'\u001b[39m\u001b[38;5;124m, \u001b[39m\u001b[38;5;124m'\u001b[39m\u001b[38;5;241m.\u001b[39mjoin(\u001b[38;5;124m'\u001b[39m\u001b[38;5;124m\"\u001b[39m\u001b[38;5;132;01m{}\u001b[39;00m\u001b[38;5;124m\"\u001b[39m\u001b[38;5;124m'\u001b[39m\u001b[38;5;241m.\u001b[39mformat(k) \u001b[38;5;28;01mfor\u001b[39;00m k \u001b[38;5;129;01min\u001b[39;00m missing_keys)))\n\u001b[1;32m   1670\u001b[0m \u001b[38;5;28;01mif\u001b[39;00m \u001b[38;5;28mlen\u001b[39m(error_msgs) \u001b[38;5;241m>\u001b[39m \u001b[38;5;241m0\u001b[39m:\n\u001b[0;32m-> 1671\u001b[0m     \u001b[38;5;28;01mraise\u001b[39;00m \u001b[38;5;167;01mRuntimeError\u001b[39;00m(\u001b[38;5;124m'\u001b[39m\u001b[38;5;124mError(s) in loading state_dict for \u001b[39m\u001b[38;5;132;01m{}\u001b[39;00m\u001b[38;5;124m:\u001b[39m\u001b[38;5;130;01m\\n\u001b[39;00m\u001b[38;5;130;01m\\t\u001b[39;00m\u001b[38;5;132;01m{}\u001b[39;00m\u001b[38;5;124m'\u001b[39m\u001b[38;5;241m.\u001b[39mformat(\n\u001b[1;32m   1672\u001b[0m                        \u001b[38;5;28mself\u001b[39m\u001b[38;5;241m.\u001b[39m\u001b[38;5;18m__class__\u001b[39m\u001b[38;5;241m.\u001b[39m\u001b[38;5;18m__name__\u001b[39m, \u001b[38;5;124m\"\u001b[39m\u001b[38;5;130;01m\\n\u001b[39;00m\u001b[38;5;130;01m\\t\u001b[39;00m\u001b[38;5;124m\"\u001b[39m\u001b[38;5;241m.\u001b[39mjoin(error_msgs)))\n\u001b[1;32m   1673\u001b[0m \u001b[38;5;28;01mreturn\u001b[39;00m _IncompatibleKeys(missing_keys, unexpected_keys)\n",
      "\u001b[0;31mRuntimeError\u001b[0m: Error(s) in loading state_dict for Pulse2PulseGANGenerator:\n\tUnexpected key(s) in state_dict: \"convolutions.0.1.weight\", \"convolutions.0.1.bias\", \"convolutions.0.1.running_mean\", \"convolutions.0.1.running_var\", \"convolutions.0.1.num_batches_tracked\", \"convolutions.1.1.weight\", \"convolutions.1.1.bias\", \"convolutions.1.1.running_mean\", \"convolutions.1.1.running_var\", \"convolutions.1.1.num_batches_tracked\", \"convolutions.2.1.weight\", \"convolutions.2.1.bias\", \"convolutions.2.1.running_mean\", \"convolutions.2.1.running_var\", \"convolutions.2.1.num_batches_tracked\", \"convolutions.3.1.weight\", \"convolutions.3.1.bias\", \"convolutions.3.1.running_mean\", \"convolutions.3.1.running_var\", \"convolutions.3.1.num_batches_tracked\", \"convolutions.4.1.weight\", \"convolutions.4.1.bias\", \"convolutions.4.1.running_mean\", \"convolutions.4.1.running_var\", \"convolutions.4.1.num_batches_tracked\", \"deconvolutions.0.1.weight\", \"deconvolutions.0.1.bias\", \"deconvolutions.0.1.running_mean\", \"deconvolutions.0.1.running_var\", \"deconvolutions.0.1.num_batches_tracked\", \"deconvolutions.1.1.weight\", \"deconvolutions.1.1.bias\", \"deconvolutions.1.1.running_mean\", \"deconvolutions.1.1.running_var\", \"deconvolutions.1.1.num_batches_tracked\", \"deconvolutions.2.1.weight\", \"deconvolutions.2.1.bias\", \"deconvolutions.2.1.running_mean\", \"deconvolutions.2.1.running_var\", \"deconvolutions.2.1.num_batches_tracked\". "
     ]
    }
   ],
   "source": [
    "path = '/home/bejar/bsc/misiones/Series/Models/WaveGAN/logs/Pulse2Pulse-MITBIH-G-NL4-IC64-K16-S2-BN-D-NL3-IC64-K16-S2-SF8-SN/final/Generator/pytorch_model.bin'\n",
    "netG.load_state_dict(torch.load(path))"
   ]
  },
  {
   "cell_type": "code",
   "execution_count": 10,
   "metadata": {},
   "outputs": [
    {
     "ename": "AttributeError",
     "evalue": "'dict' object has no attribute 'eval'",
     "output_type": "error",
     "traceback": [
      "\u001b[0;31m---------------------------------------------------------------------------\u001b[0m",
      "\u001b[0;31mAttributeError\u001b[0m                            Traceback (most recent call last)",
      "Cell \u001b[0;32mIn[10], line 1\u001b[0m\n\u001b[0;32m----> 1\u001b[0m \u001b[43mnetG\u001b[49m\u001b[38;5;241;43m.\u001b[39;49m\u001b[43meval\u001b[49m()\n",
      "\u001b[0;31mAttributeError\u001b[0m: 'dict' object has no attribute 'eval'"
     ]
    }
   ],
   "source": [
    "netG.eval()"
   ]
  },
  {
   "cell_type": "markdown",
   "metadata": {},
   "source": [
    "---"
   ]
  },
  {
   "cell_type": "code",
   "execution_count": 2,
   "metadata": {},
   "outputs": [],
   "source": [
    "data = torch.rand(10, 100).to('cuda')\n",
    "labels = torch.randint(0, 2, (10,)).to('cuda')"
   ]
  },
  {
   "cell_type": "code",
   "execution_count": 3,
   "metadata": {},
   "outputs": [],
   "source": [
    "gen = WaveGANDeconvGenerator(latent_dim=100,\n",
    "                               init_dim=16,\n",
    "                               init_channels=8,\n",
    "                               output_size=256,\n",
    "                               output_channels=1,\n",
    "                               kernel_size=15,\n",
    "                               stride=2,\n",
    "                               n_classes=5,\n",
    "                               class_embedding_dim=10,\n",
    "                               normalization=\"batch\",\n",
    "                               upsampling=True)\n",
    "\n",
    "gen.to('cuda');"
   ]
  },
  {
   "cell_type": "code",
   "execution_count": 4,
   "metadata": {},
   "outputs": [],
   "source": [
    "res = gen(data, labels)"
   ]
  },
  {
   "cell_type": "code",
   "execution_count": 5,
   "metadata": {},
   "outputs": [
    {
     "data": {
      "text/plain": [
       "torch.Size([10, 1, 256])"
      ]
     },
     "execution_count": 5,
     "metadata": {},
     "output_type": "execute_result"
    }
   ],
   "source": [
    "res.shape"
   ]
  },
  {
   "cell_type": "code",
   "execution_count": 8,
   "metadata": {},
   "outputs": [],
   "source": [
    "disc = WaveGANDiscriminator(\n",
    "    input_size=256,\n",
    "    input_channels=8,\n",
    "    init_channels=16,\n",
    "    n_layers=6,\n",
    "    kernel_size=4,\n",
    "    stride=2,\n",
    "    shift_factor=2)"
   ]
  },
  {
   "cell_type": "code",
   "execution_count": 7,
   "metadata": {},
   "outputs": [
    {
     "name": "stdout",
     "output_type": "stream",
     "text": [
      "torch.Size([1, 8, 256])\n",
      "torch.Size([1, 16, 128])\n",
      "torch.Size([1, 16, 128])\n",
      "torch.Size([1, 16, 128])\n",
      "torch.Size([1, 32, 64])\n",
      "torch.Size([1, 32, 64])\n",
      "torch.Size([1, 32, 64])\n",
      "torch.Size([1, 64, 32])\n",
      "torch.Size([1, 64, 32])\n"
     ]
    },
    {
     "data": {
      "text/plain": [
       "tensor([[0.4887]], grad_fn=<SigmoidBackward0>)"
      ]
     },
     "execution_count": 7,
     "metadata": {},
     "output_type": "execute_result"
    }
   ],
   "source": [
    "disc(res)"
   ]
  },
  {
   "cell_type": "markdown",
   "metadata": {},
   "source": [
    "---"
   ]
  },
  {
   "cell_type": "code",
   "execution_count": 2,
   "metadata": {},
   "outputs": [],
   "source": [
    "data = torch.rand(10, 8, 512).to('cuda')\n",
    "labels = torch.randint(0, 5, (10,)).to('cuda')"
   ]
  },
  {
   "cell_type": "code",
   "execution_count": 3,
   "metadata": {},
   "outputs": [
    {
     "data": {
      "text/plain": [
       "tensor([3, 0, 4, 1, 0, 1, 3, 0, 2, 3], device='cuda:0')"
      ]
     },
     "execution_count": 3,
     "metadata": {},
     "output_type": "execute_result"
    }
   ],
   "source": [
    "labels"
   ]
  },
  {
   "cell_type": "code",
   "execution_count": 4,
   "metadata": {},
   "outputs": [],
   "source": [
    "gen = Pulse2PulseGANGenerator(\n",
    "    seq_length=512,\n",
    "    seq_channels=8,\n",
    "    init_channels=32,\n",
    "    kernel_size=16,\n",
    "    stride=2,\n",
    "    n_layers=3,\n",
    "    n_classes=5,\n",
    "    class_embedding=True,\n",
    "    normalization=None,\n",
    ")\n",
    "\n",
    "gen.to('cuda');"
   ]
  },
  {
   "cell_type": "code",
   "execution_count": 5,
   "metadata": {},
   "outputs": [],
   "source": [
    "res = gen(data, labels)"
   ]
  },
  {
   "cell_type": "code",
   "execution_count": 6,
   "metadata": {},
   "outputs": [
    {
     "data": {
      "text/plain": [
       "torch.Size([10, 8, 512])"
      ]
     },
     "execution_count": 6,
     "metadata": {},
     "output_type": "execute_result"
    }
   ],
   "source": [
    "res.shape"
   ]
  },
  {
   "cell_type": "markdown",
   "metadata": {},
   "source": [
    "# TTSGAN"
   ]
  },
  {
   "cell_type": "code",
   "execution_count": 2,
   "metadata": {},
   "outputs": [],
   "source": [
    "data = torch.rand(10, 100).to('cuda')\n",
    "labels = torch.randint(0, 5, (10,)).to('cuda')"
   ]
  },
  {
   "cell_type": "code",
   "execution_count": 3,
   "metadata": {},
   "outputs": [],
   "source": [
    "gen = TTSGANGenerator(\n",
    "        latent_dim=100,\n",
    "        seq_length=512,\n",
    "        seq_channels=8,\n",
    "        n_classes=5,\n",
    "        data_embed_dim=128,\n",
    "        label_embed_dim=10,\n",
    "        n_layers=3,\n",
    "        num_heads=8,\n",
    "        dropout_rate=0.5,\n",
    ")\n",
    "\n",
    "gen.to('cuda');"
   ]
  },
  {
   "cell_type": "code",
   "execution_count": 4,
   "metadata": {},
   "outputs": [],
   "source": [
    "res = gen(data, labels)"
   ]
  },
  {
   "cell_type": "code",
   "execution_count": 5,
   "metadata": {},
   "outputs": [
    {
     "data": {
      "text/plain": [
       "torch.Size([10, 8, 512])"
      ]
     },
     "execution_count": 5,
     "metadata": {},
     "output_type": "execute_result"
    }
   ],
   "source": [
    "res.shape"
   ]
  },
  {
   "cell_type": "code",
   "execution_count": 6,
   "metadata": {},
   "outputs": [],
   "source": [
    "dis = TTSGANDiscriminator(\n",
    "    seq_length=512,\n",
    "    seq_channels=8,\n",
    "    n_classes=5,\n",
    "    patch_size=16,\n",
    "    data_embed_dim=64,\n",
    "    label_embed_dim=10,\n",
    "    n_layers=3,\n",
    "    num_heads=8,\n",
    "    dropout_rate=0.5,\n",
    ")\n",
    "dis.to('cuda');"
   ]
  },
  {
   "cell_type": "code",
   "execution_count": 7,
   "metadata": {},
   "outputs": [
    {
     "data": {
      "text/plain": [
       "tensor([[ 0.5648],\n",
       "        [-3.1616],\n",
       "        [ 0.4286],\n",
       "        [ 1.0198],\n",
       "        [ 4.8022],\n",
       "        [-1.5704],\n",
       "        [ 1.1968],\n",
       "        [ 1.5078],\n",
       "        [ 1.3790],\n",
       "        [-0.3047]], device='cuda:0', grad_fn=<AddBackward0>)"
      ]
     },
     "execution_count": 7,
     "metadata": {},
     "output_type": "execute_result"
    }
   ],
   "source": [
    "dis(res, labels)"
   ]
  },
  {
   "cell_type": "markdown",
   "metadata": {},
   "source": [
    "# MAE"
   ]
  },
  {
   "cell_type": "code",
   "execution_count": 59,
   "metadata": {},
   "outputs": [],
   "source": [
    "data = torch.rand(10, 2, 128).to('cuda')\n",
    "data2= torch.rand(10, 2, 128).to('cuda')\n",
    "labels = torch.randint(0, 5, (10, )).to('cuda')\n",
    "patch = 8"
   ]
  },
  {
   "cell_type": "code",
   "execution_count": 60,
   "metadata": {},
   "outputs": [],
   "source": [
    "patchl = nn.Conv1d(2, 4, kernel_size=patch, stride=patch).to('cuda')\n",
    "linear = nn.Conv1d(4, 1, kernel_size=1, stride=1).to('cuda')"
   ]
  },
  {
   "cell_type": "code",
   "execution_count": 62,
   "metadata": {
    "notebookRunGroups": {
     "groupValue": "1"
    }
   },
   "outputs": [],
   "source": [
    "x = patchl(data)\n",
    "x2 = patchl(data2)"
   ]
  },
  {
   "cell_type": "code",
   "execution_count": 49,
   "metadata": {},
   "outputs": [
    {
     "data": {
      "text/plain": [
       "torch.Size([10, 4, 16])"
      ]
     },
     "execution_count": 49,
     "metadata": {},
     "output_type": "execute_result"
    }
   ],
   "source": [
    "x.shape"
   ]
  },
  {
   "cell_type": "code",
   "execution_count": 63,
   "metadata": {},
   "outputs": [],
   "source": [
    "r = linear(x)\n",
    "r2 = linear(x2)"
   ]
  },
  {
   "cell_type": "code",
   "execution_count": 46,
   "metadata": {},
   "outputs": [
    {
     "data": {
      "text/plain": [
       "torch.Size([10, 1, 16])"
      ]
     },
     "execution_count": 46,
     "metadata": {},
     "output_type": "execute_result"
    }
   ],
   "source": [
    "r.shape"
   ]
  },
  {
   "cell_type": "code",
   "execution_count": 57,
   "metadata": {},
   "outputs": [],
   "source": [
    "# r = r.view(r.shape[0], -1)"
   ]
  },
  {
   "cell_type": "code",
   "execution_count": 64,
   "metadata": {},
   "outputs": [
    {
     "data": {
      "text/plain": [
       "tensor(-1.3855, device='cuda:0', grad_fn=<MeanBackward0>)"
      ]
     },
     "execution_count": 64,
     "metadata": {},
     "output_type": "execute_result"
    }
   ],
   "source": [
    "(torch.log(torch.sigmoid(r))+torch.log(1-torch.sigmoid(r2))).mean()"
   ]
  }
 ],
 "metadata": {
  "kernelspec": {
   "display_name": "torch13",
   "language": "python",
   "name": "python3"
  },
  "language_info": {
   "codemirror_mode": {
    "name": "ipython",
    "version": 3
   },
   "file_extension": ".py",
   "mimetype": "text/x-python",
   "name": "python",
   "nbconvert_exporter": "python",
   "pygments_lexer": "ipython3",
   "version": "3.10.13"
  }
 },
 "nbformat": 4,
 "nbformat_minor": 2
}
